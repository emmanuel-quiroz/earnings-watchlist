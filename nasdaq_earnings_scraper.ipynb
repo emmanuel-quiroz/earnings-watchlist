{
 "cells": [
  {
   "cell_type": "code",
   "execution_count": 1,
   "metadata": {},
   "outputs": [],
   "source": [
    "from selenium import webdriver\n",
    "from datetime import datetime\n",
    "import requests\n",
    "import time\n",
    "import pandas as pd\n",
    "\n",
    "#function to retrieve tickers that have earnings on a certain date \n",
    "#@param date string in ISO 8601 format \n",
    "#@returns dictionary with ticker as keys and earning call time as values\n",
    "\n",
    "def getTickerInfo(desired_date):\n",
    "    #set options for webdriver\n",
    "    options = webdriver.ChromeOptions()\n",
    "    options.add_argument('--no-sandbox')\n",
    "    options.add_argument('--headless')\n",
    "    options.add_argument('--disable-dev-shm-usage')\n",
    "\n",
    "    #target url to scrape\n",
    "    url = \"https://finance.yahoo.com/calendar/earnings?day={}\".format(desired_date)\n",
    "\n",
    "    #webdriver\n",
    "    web_driver = webdriver.Chrome('chromedriver', options=options)\n",
    "\n",
    "    #visit nasdaq earnings calendar and retrieve tables\n",
    "    web_driver.get(url)\n",
    "    html = web_driver.page_source\n",
    "    earnings_results = pd.read_html(html)\n",
    "\n",
    "    #dataframe\n",
    "    earnings_df = earnings_results[0]\n",
    "\n",
    "    #dict of ticker names and earnings call time\n",
    "    data = dict(zip(earnings_df['Symbol'], earnings_df['Earnings Call Time']))\n",
    "    return data\n",
    "\n",
    "    "
   ]
  },
  {
   "cell_type": "code",
   "execution_count": null,
   "metadata": {},
   "outputs": [],
   "source": []
  }
 ],
 "metadata": {
  "interpreter": {
   "hash": "bf2b6af1ad5f49140900d2e529a6a33f4cb12a9ef97dc0d5ecb10ed6f2cc2925"
  },
  "kernelspec": {
   "display_name": "Python 3.8.5 64-bit ('base': conda)",
   "language": "python",
   "name": "python3"
  },
  "language_info": {
   "codemirror_mode": {
    "name": "ipython",
    "version": 3
   },
   "file_extension": ".py",
   "mimetype": "text/x-python",
   "name": "python",
   "nbconvert_exporter": "python",
   "pygments_lexer": "ipython3",
   "version": "3.8.5"
  },
  "orig_nbformat": 4
 },
 "nbformat": 4,
 "nbformat_minor": 2
}
