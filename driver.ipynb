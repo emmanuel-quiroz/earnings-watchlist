{
 "cells": [
  {
   "cell_type": "code",
   "execution_count": null,
   "metadata": {},
   "outputs": [],
   "source": [
    "%run nasdaq_earnings_scraper.ipynb\n",
    "import json"
   ]
  },
  {
   "cell_type": "code",
   "execution_count": null,
   "metadata": {},
   "outputs": [],
   "source": [
    "date = '2022-01-16'\n",
    "data  = {}\n",
    "\n",
    "\n",
    "try:\n",
    "    data = getTickerInfo(date)\n",
    "except:\n",
    "    print('No earnings on {}'.format(date))\n",
    "\n",
    "display(data)\n",
    "\n",
    "tickers = \",\".join(data.keys())\n",
    "print(tickers)"
   ]
  },
  {
   "cell_type": "code",
   "execution_count": null,
   "metadata": {},
   "outputs": [],
   "source": [
    "yahoo_api_url = \"https://yfapi.net/v6/finance/quote\"\n",
    "sym = \"AAPL\"\n",
    "\n",
    "querystring = {\"symbols\":tickers}\n",
    "\n",
    "headers = {\n",
    "    'x-api-key': \"6BDW4NIUyr4J83X3MUkMK7pERav6SbSz2rLLszJy\"\n",
    "    }\n",
    "\n",
    "response = requests.request(\"GET\", yahoo_api_url, headers=headers, params=querystring)\n",
    "\n",
    "display(response.text)\n",
    "\n",
    "\n"
   ]
  },
  {
   "cell_type": "code",
   "execution_count": 74,
   "metadata": {},
   "outputs": [
    {
     "name": "stdout",
     "output_type": "stream",
     "text": [
      "0\n",
      "YQ\n",
      "49632504\n",
      "1\n",
      "PONGF\n",
      "161583008\n"
     ]
    }
   ],
   "source": [
    "type(response.text)\n",
    "real_data = json.loads(response.text)\n",
    "\n",
    "\n",
    "market_cap_tickers = {}\n",
    "response_list = real_data['quoteResponse'][\"result\"]\n",
    "\n",
    "for index in range(len(response_list)):\n",
    "    #int\n",
    "    print(index)\n",
    "\n",
    "    #str\n",
    "    print(response_list[index][\"symbol\"])\n",
    "\n",
    "    #int\n",
    "    print(response_list[index][\"marketCap\"])\n",
    "\n",
    "    market_cap_tickers[response_list[index][\"symbol\"]] = response_list[index][\"marketCap\"]\n",
    "\n",
    "\n",
    "\n",
    "   \n",
    "   \n",
    "    "
   ]
  },
  {
   "cell_type": "code",
   "execution_count": null,
   "metadata": {},
   "outputs": [],
   "source": []
  }
 ],
 "metadata": {
  "interpreter": {
   "hash": "bf2b6af1ad5f49140900d2e529a6a33f4cb12a9ef97dc0d5ecb10ed6f2cc2925"
  },
  "kernelspec": {
   "display_name": "Python 3.8.5 64-bit ('base': conda)",
   "language": "python",
   "name": "python3"
  },
  "language_info": {
   "codemirror_mode": {
    "name": "ipython",
    "version": 3
   },
   "file_extension": ".py",
   "mimetype": "text/x-python",
   "name": "python",
   "nbconvert_exporter": "python",
   "pygments_lexer": "ipython3",
   "version": "3.8.5"
  },
  "orig_nbformat": 4
 },
 "nbformat": 4,
 "nbformat_minor": 2
}
