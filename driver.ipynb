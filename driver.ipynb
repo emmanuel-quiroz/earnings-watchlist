{
 "cells": [
  {
   "cell_type": "code",
   "execution_count": null,
   "metadata": {},
   "outputs": [],
   "source": [
    "from ticker_functions import *\n",
    "import json\n",
    "\n",
    "#input desired date here\n",
    "DATE = '2022-02-22'\n",
    "\n",
    "#retrieve top 8 tickers ranked by marketcap\n",
    "top_tickers_dict = getTopTickers(DATE)\n",
    "pd.set_option('display.max_rows', None)\n",
    "\n",
    "#List of DataFrames\n",
    "df_list = []\n",
    "\n",
    "#convert each ticker response into DataFrame \n",
    "for key in top_tickers_dict:\n",
    "    try:\n",
    "        data = getHistoryData_1d_6mo(key)\n",
    "        df = createDataFrame(data)\n",
    "        df_list.append(df)\n",
    "    except:\n",
    "        continue\n",
    "#render chart for all tickers \n",
    "for i, df in enumerate(df_list):\n",
    "    renderChart(df, top_tickers_dict)"
   ]
  }
 ],
 "metadata": {
  "language_info": {
   "name": "python"
  },
  "orig_nbformat": 4
 },
 "nbformat": 4,
 "nbformat_minor": 2
}
