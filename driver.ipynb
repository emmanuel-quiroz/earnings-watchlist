{
 "cells": [
  {
   "cell_type": "code",
   "execution_count": null,
   "metadata": {},
   "outputs": [],
   "source": [
    "from yahoo_finance_earnings_scraper import *\n",
    "from top_earnings_driver import TopEarningsDriver\n",
    "from ticker_dataframe import TickerDataFrame\n"
   ]
  },
  {
   "cell_type": "code",
   "execution_count": null,
   "metadata": {},
   "outputs": [],
   "source": [
    "#input desired date here\n",
    "DATE = '2022-04-04'"
   ]
  },
  {
   "cell_type": "code",
   "execution_count": null,
   "metadata": {},
   "outputs": [],
   "source": [
    "#scrape yahoo.finance for earnings symbol and time\n",
    "earnings_reporting_dict = scrapeYahoo(DATE)\n",
    "\n",
    "\n",
    "#create Top Earnings Driver object, get quotes, sort and trim by marketcap\n",
    "earnings_driver = TopEarningsDriver(tickers=earnings_reporting_dict)\n",
    "earnings_driver.getQuotes()\n",
    "earnings_driver.extractMarketCaps()\n",
    "earnings_driver.trimTopEight()\n"
   ]
  },
  {
   "cell_type": "code",
   "execution_count": null,
   "metadata": {},
   "outputs": [],
   "source": [
    "earnings_reporting_dict = earnings_driver.tickers\n",
    "df_list = []\n",
    "\n",
    "for key in earnings_reporting_dict:\n",
    "    tdf = TickerDataFrame(key, earnings_reporting_dict[key])\n",
    "    tdf.getHistoryData_1d_6mo()\n",
    "    tdf.fillDataFrame(tdf.history_data)\n",
    "    df_list.append(tdf)\n"
   ]
  },
  {
   "cell_type": "code",
   "execution_count": null,
   "metadata": {},
   "outputs": [],
   "source": [
    "#render candlestick chart\n",
    "for df in df_list:\n",
    "    df.renderChart()"
   ]
  }
 ],
 "metadata": {
  "interpreter": {
   "hash": "bf2b6af1ad5f49140900d2e529a6a33f4cb12a9ef97dc0d5ecb10ed6f2cc2925"
  },
  "kernelspec": {
   "display_name": "Python 3.8.5 ('base')",
   "language": "python",
   "name": "python3"
  },
  "language_info": {
   "codemirror_mode": {
    "name": "ipython",
    "version": 3
   },
   "file_extension": ".py",
   "mimetype": "text/x-python",
   "name": "python",
   "nbconvert_exporter": "python",
   "pygments_lexer": "ipython3",
   "version": "3.8.5"
  },
  "orig_nbformat": 4
 },
 "nbformat": 4,
 "nbformat_minor": 2
}
