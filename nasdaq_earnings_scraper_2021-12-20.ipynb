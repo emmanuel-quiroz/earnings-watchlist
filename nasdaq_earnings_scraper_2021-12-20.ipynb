{
 "cells": [
  {
   "cell_type": "code",
   "execution_count": 8,
   "metadata": {},
   "outputs": [],
   "source": [
    "from selenium import webdriver\n",
    "from datetime import datetime\n",
    "import requests\n",
    "import time\n",
    "import pandas as pd"
   ]
  },
  {
   "cell_type": "code",
   "execution_count": 10,
   "metadata": {},
   "outputs": [
    {
     "ename": "SyntaxError",
     "evalue": "invalid syntax (<ipython-input-10-8199b2719965>, line 12)",
     "output_type": "error",
     "traceback": [
      "\u001b[0;36m  File \u001b[0;32m\"<ipython-input-10-8199b2719965>\"\u001b[0;36m, line \u001b[0;32m12\u001b[0m\n\u001b[0;31m    web_driver = webdriver.Chrome('chromedriver', options=options)\u001b[0m\n\u001b[0m    ^\u001b[0m\n\u001b[0;31mSyntaxError\u001b[0m\u001b[0;31m:\u001b[0m invalid syntax\n"
     ]
    }
   ],
   "source": [
    "def getTickerInfo(desired_date):\n",
    "    #set options for webdriver\n",
    "    options = webdriver.ChromeOptions()\n",
    "    options.add_argument('--no-sandbox')\n",
    "    options.add_argument('--headless')\n",
    "    options.add_argument('--start-fullscreen')\n",
    "    options.add_argument('--disable-dev-shm-usage'\n",
    "\n",
    "    #target url to scrape\n",
    "    url = r'https://finance.yahoo.com/calendar/earnings?day={}'.format(desired_date)\n",
    "\n",
    "    #webdriver\n",
    "    web_driver = webdriver.Chrome('chromedriver', options=options)\n",
    "\n",
    "    #visit nasdaq earnings calendar and retrieve tables\n",
    "    web_driver.get(url)\n",
    "    html = web_driver.page_source\n",
    "    earnings_results = pd.read_html(html)\n",
    "    earnings_df = earnings_results[0]\n",
    "\n",
    "    #dict of ticker names and earnings call time\n",
    "    data = dict(zip(earnings_df['Symbol'], earnings_df['Earnings Call Time']))\n",
    "    print(data)\n",
    "    return data\n",
    "\n"
   ]
  }
 ],
 "metadata": {
  "interpreter": {
   "hash": "bf2b6af1ad5f49140900d2e529a6a33f4cb12a9ef97dc0d5ecb10ed6f2cc2925"
  },
  "kernelspec": {
   "display_name": "Python 3.8.5 64-bit ('base': conda)",
   "language": "python",
   "name": "python3"
  },
  "language_info": {
   "codemirror_mode": {
    "name": "ipython",
    "version": 3
   },
   "file_extension": ".py",
   "mimetype": "text/x-python",
   "name": "python",
   "nbconvert_exporter": "python",
   "pygments_lexer": "ipython3",
   "version": "3.8.5"
  },
  "orig_nbformat": 4
 },
 "nbformat": 4,
 "nbformat_minor": 2
}
